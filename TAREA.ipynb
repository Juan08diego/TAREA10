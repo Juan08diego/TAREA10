{
  "nbformat": 4,
  "nbformat_minor": 0,
  "metadata": {
    "colab": {
      "provenance": []
    },
    "kernelspec": {
      "name": "python3",
      "display_name": "Python 3"
    },
    "language_info": {
      "name": "python"
    }
  },
  "cells": [
    {
      "cell_type": "markdown",
      "source": [
        "***SOLUCIÓN ACTIVIDAD MODULO 10***:\n",
        "\n",
        "***Nombre:*** Juan Diego Vargas Mesa\n",
        "\n",
        "***CC*** 1013099612\n",
        "\n"
      ],
      "metadata": {
        "id": "i9XJ9R03vOlF"
      }
    },
    {
      "cell_type": "code",
      "source": [
        "#PRIMERO INSTALAMOS SODAPY\n",
        "\n",
        "!pip install sodapy"
      ],
      "metadata": {
        "id": "ukn7IuyEn4mY",
        "colab": {
          "base_uri": "https://localhost:8080/"
        },
        "outputId": "1edd8d4f-a741-45a6-af23-98f407111490"
      },
      "execution_count": 1,
      "outputs": [
        {
          "output_type": "stream",
          "name": "stdout",
          "text": [
            "Looking in indexes: https://pypi.org/simple, https://us-python.pkg.dev/colab-wheels/public/simple/\n",
            "Collecting sodapy\n",
            "  Downloading sodapy-2.2.0-py2.py3-none-any.whl (15 kB)\n",
            "Collecting requests>=2.28.1 (from sodapy)\n",
            "  Downloading requests-2.31.0-py3-none-any.whl (62 kB)\n",
            "\u001b[2K     \u001b[90m━━━━━━━━━━━━━━━━━━━━━━━━━━━━━━━━━━━━━━━━\u001b[0m \u001b[32m62.6/62.6 kB\u001b[0m \u001b[31m2.8 MB/s\u001b[0m eta \u001b[36m0:00:00\u001b[0m\n",
            "\u001b[?25hRequirement already satisfied: charset-normalizer<4,>=2 in /usr/local/lib/python3.10/dist-packages (from requests>=2.28.1->sodapy) (2.0.12)\n",
            "Requirement already satisfied: idna<4,>=2.5 in /usr/local/lib/python3.10/dist-packages (from requests>=2.28.1->sodapy) (3.4)\n",
            "Requirement already satisfied: urllib3<3,>=1.21.1 in /usr/local/lib/python3.10/dist-packages (from requests>=2.28.1->sodapy) (1.26.15)\n",
            "Requirement already satisfied: certifi>=2017.4.17 in /usr/local/lib/python3.10/dist-packages (from requests>=2.28.1->sodapy) (2022.12.7)\n",
            "Installing collected packages: requests, sodapy\n",
            "  Attempting uninstall: requests\n",
            "    Found existing installation: requests 2.27.1\n",
            "    Uninstalling requests-2.27.1:\n",
            "      Successfully uninstalled requests-2.27.1\n",
            "\u001b[31mERROR: pip's dependency resolver does not currently take into account all the packages that are installed. This behaviour is the source of the following dependency conflicts.\n",
            "google-colab 1.0.0 requires requests==2.27.1, but you have requests 2.31.0 which is incompatible.\u001b[0m\u001b[31m\n",
            "\u001b[0mSuccessfully installed requests-2.31.0 sodapy-2.2.0\n"
          ]
        }
      ]
    },
    {
      "cell_type": "code",
      "execution_count": 2,
      "metadata": {
        "id": "LVopHqM-vN8L"
      },
      "outputs": [],
      "source": [
        "#Importamos las librerias que vamos a necesitar\n",
        "\n",
        "import pandas as pd\n",
        "import numpy as np\n",
        "import matplotlib.pyplot as plt\n",
        "from sodapy import Socrata"
      ]
    },
    {
      "cell_type": "markdown",
      "source": [
        "**Punto 1:** Cargamos el dataset con sodapy que nos permite traer datos desde un cliente."
      ],
      "metadata": {
        "id": "K9seyLMixA7x"
      }
    },
    {
      "cell_type": "code",
      "source": [
        "client= Socrata('www.datos.gov.co', None)\n",
        "\n",
        "result= client.get('32sa-8pi3')\n",
        "df= pd.DataFrame.from_records(result)\n",
        "\n",
        "df.head()"
      ],
      "metadata": {
        "colab": {
          "base_uri": "https://localhost:8080/",
          "height": 224
        },
        "id": "qyxQj5swyVRQ",
        "outputId": "d67853c0-2a78-4c1f-b4fe-7f8b2d52c28c"
      },
      "execution_count": 3,
      "outputs": [
        {
          "output_type": "stream",
          "name": "stderr",
          "text": [
            "WARNING:root:Requests made without an app_token will be subject to strict throttling limits.\n"
          ]
        },
        {
          "output_type": "execute_result",
          "data": {
            "text/plain": [
              "     valor unidad            vigenciadesde            vigenciahasta\n",
              "0  4761.64    COP  2022-12-22T00:00:00.000  2022-12-22T00:00:00.000\n",
              "1  4781.28    COP  2022-12-20T00:00:00.000  2022-12-20T00:00:00.000\n",
              "2  4802.48    COP  2022-12-17T00:00:00.000  2022-12-19T00:00:00.000\n",
              "3  4836.24    COP  2022-12-13T00:00:00.000  2022-12-13T00:00:00.000\n",
              "4  4815.99    COP  2022-12-10T00:00:00.000  2022-12-12T00:00:00.000"
            ],
            "text/html": [
              "\n",
              "  <div id=\"df-f7345ef6-82bf-476c-aceb-7dc943440917\">\n",
              "    <div class=\"colab-df-container\">\n",
              "      <div>\n",
              "<style scoped>\n",
              "    .dataframe tbody tr th:only-of-type {\n",
              "        vertical-align: middle;\n",
              "    }\n",
              "\n",
              "    .dataframe tbody tr th {\n",
              "        vertical-align: top;\n",
              "    }\n",
              "\n",
              "    .dataframe thead th {\n",
              "        text-align: right;\n",
              "    }\n",
              "</style>\n",
              "<table border=\"1\" class=\"dataframe\">\n",
              "  <thead>\n",
              "    <tr style=\"text-align: right;\">\n",
              "      <th></th>\n",
              "      <th>valor</th>\n",
              "      <th>unidad</th>\n",
              "      <th>vigenciadesde</th>\n",
              "      <th>vigenciahasta</th>\n",
              "    </tr>\n",
              "  </thead>\n",
              "  <tbody>\n",
              "    <tr>\n",
              "      <th>0</th>\n",
              "      <td>4761.64</td>\n",
              "      <td>COP</td>\n",
              "      <td>2022-12-22T00:00:00.000</td>\n",
              "      <td>2022-12-22T00:00:00.000</td>\n",
              "    </tr>\n",
              "    <tr>\n",
              "      <th>1</th>\n",
              "      <td>4781.28</td>\n",
              "      <td>COP</td>\n",
              "      <td>2022-12-20T00:00:00.000</td>\n",
              "      <td>2022-12-20T00:00:00.000</td>\n",
              "    </tr>\n",
              "    <tr>\n",
              "      <th>2</th>\n",
              "      <td>4802.48</td>\n",
              "      <td>COP</td>\n",
              "      <td>2022-12-17T00:00:00.000</td>\n",
              "      <td>2022-12-19T00:00:00.000</td>\n",
              "    </tr>\n",
              "    <tr>\n",
              "      <th>3</th>\n",
              "      <td>4836.24</td>\n",
              "      <td>COP</td>\n",
              "      <td>2022-12-13T00:00:00.000</td>\n",
              "      <td>2022-12-13T00:00:00.000</td>\n",
              "    </tr>\n",
              "    <tr>\n",
              "      <th>4</th>\n",
              "      <td>4815.99</td>\n",
              "      <td>COP</td>\n",
              "      <td>2022-12-10T00:00:00.000</td>\n",
              "      <td>2022-12-12T00:00:00.000</td>\n",
              "    </tr>\n",
              "  </tbody>\n",
              "</table>\n",
              "</div>\n",
              "      <button class=\"colab-df-convert\" onclick=\"convertToInteractive('df-f7345ef6-82bf-476c-aceb-7dc943440917')\"\n",
              "              title=\"Convert this dataframe to an interactive table.\"\n",
              "              style=\"display:none;\">\n",
              "        \n",
              "  <svg xmlns=\"http://www.w3.org/2000/svg\" height=\"24px\"viewBox=\"0 0 24 24\"\n",
              "       width=\"24px\">\n",
              "    <path d=\"M0 0h24v24H0V0z\" fill=\"none\"/>\n",
              "    <path d=\"M18.56 5.44l.94 2.06.94-2.06 2.06-.94-2.06-.94-.94-2.06-.94 2.06-2.06.94zm-11 1L8.5 8.5l.94-2.06 2.06-.94-2.06-.94L8.5 2.5l-.94 2.06-2.06.94zm10 10l.94 2.06.94-2.06 2.06-.94-2.06-.94-.94-2.06-.94 2.06-2.06.94z\"/><path d=\"M17.41 7.96l-1.37-1.37c-.4-.4-.92-.59-1.43-.59-.52 0-1.04.2-1.43.59L10.3 9.45l-7.72 7.72c-.78.78-.78 2.05 0 2.83L4 21.41c.39.39.9.59 1.41.59.51 0 1.02-.2 1.41-.59l7.78-7.78 2.81-2.81c.8-.78.8-2.07 0-2.86zM5.41 20L4 18.59l7.72-7.72 1.47 1.35L5.41 20z\"/>\n",
              "  </svg>\n",
              "      </button>\n",
              "      \n",
              "  <style>\n",
              "    .colab-df-container {\n",
              "      display:flex;\n",
              "      flex-wrap:wrap;\n",
              "      gap: 12px;\n",
              "    }\n",
              "\n",
              "    .colab-df-convert {\n",
              "      background-color: #E8F0FE;\n",
              "      border: none;\n",
              "      border-radius: 50%;\n",
              "      cursor: pointer;\n",
              "      display: none;\n",
              "      fill: #1967D2;\n",
              "      height: 32px;\n",
              "      padding: 0 0 0 0;\n",
              "      width: 32px;\n",
              "    }\n",
              "\n",
              "    .colab-df-convert:hover {\n",
              "      background-color: #E2EBFA;\n",
              "      box-shadow: 0px 1px 2px rgba(60, 64, 67, 0.3), 0px 1px 3px 1px rgba(60, 64, 67, 0.15);\n",
              "      fill: #174EA6;\n",
              "    }\n",
              "\n",
              "    [theme=dark] .colab-df-convert {\n",
              "      background-color: #3B4455;\n",
              "      fill: #D2E3FC;\n",
              "    }\n",
              "\n",
              "    [theme=dark] .colab-df-convert:hover {\n",
              "      background-color: #434B5C;\n",
              "      box-shadow: 0px 1px 3px 1px rgba(0, 0, 0, 0.15);\n",
              "      filter: drop-shadow(0px 1px 2px rgba(0, 0, 0, 0.3));\n",
              "      fill: #FFFFFF;\n",
              "    }\n",
              "  </style>\n",
              "\n",
              "      <script>\n",
              "        const buttonEl =\n",
              "          document.querySelector('#df-f7345ef6-82bf-476c-aceb-7dc943440917 button.colab-df-convert');\n",
              "        buttonEl.style.display =\n",
              "          google.colab.kernel.accessAllowed ? 'block' : 'none';\n",
              "\n",
              "        async function convertToInteractive(key) {\n",
              "          const element = document.querySelector('#df-f7345ef6-82bf-476c-aceb-7dc943440917');\n",
              "          const dataTable =\n",
              "            await google.colab.kernel.invokeFunction('convertToInteractive',\n",
              "                                                     [key], {});\n",
              "          if (!dataTable) return;\n",
              "\n",
              "          const docLinkHtml = 'Like what you see? Visit the ' +\n",
              "            '<a target=\"_blank\" href=https://colab.research.google.com/notebooks/data_table.ipynb>data table notebook</a>'\n",
              "            + ' to learn more about interactive tables.';\n",
              "          element.innerHTML = '';\n",
              "          dataTable['output_type'] = 'display_data';\n",
              "          await google.colab.output.renderOutput(dataTable, element);\n",
              "          const docLink = document.createElement('div');\n",
              "          docLink.innerHTML = docLinkHtml;\n",
              "          element.appendChild(docLink);\n",
              "        }\n",
              "      </script>\n",
              "    </div>\n",
              "  </div>\n",
              "  "
            ]
          },
          "metadata": {},
          "execution_count": 3
        }
      ]
    },
    {
      "cell_type": "markdown",
      "source": [
        "**Punto 2:** Calculamos la media, mediana, deviación estandar, maximo, minimo y rango de los datos que están en la columna 'valor' que representan el valor del dolar en COP"
      ],
      "metadata": {
        "id": "RrB1DRlG4Am7"
      }
    },
    {
      "cell_type": "code",
      "source": [
        "# Pasamos la columna valores a datos float para que puedan ser calculables\n",
        "# Para esto usamos 'astype' de numpy que nos sirve para cambiar el tipo del dato y ademas los ponemos como un dataframe\n",
        "\n",
        "valorn= pd.DataFrame(df['valor'].astype(float))\n",
        "\n",
        "# Usamos los metodos estadisticos para calcular los datos que nos están pidiendo\n",
        "print('La MEDIA de los datos en la columna valor es:', round(valorn.values.mean(),3))\n",
        "print('La MEDIANA de los datos en la columna valor es:', round(np.median(valorn),3))\n",
        "print('La DESVIACION ESTANDAR de los datos en la columna valor es:', round(valorn.values.std(),3))\n",
        "print('El valor MAXIMO de los datos en la columna valor es:', round(valorn.values.max(),3))\n",
        "print('El valor MINIMO de los datos en la columna valor es:', round(valorn.values.min(),3))\n",
        "print('El RANGO de los datos en la columna valor es:', round(valorn.values.max()-valorn.values.min(),3))"
      ],
      "metadata": {
        "colab": {
          "base_uri": "https://localhost:8080/"
        },
        "id": "DKwW0stf0e-P",
        "outputId": "e7d69129-3ab4-439c-8b6e-cfe936bb2c5d"
      },
      "execution_count": 4,
      "outputs": [
        {
          "output_type": "stream",
          "name": "stdout",
          "text": [
            "La MEDIA de los datos en la columna valor es: 3042.377\n",
            "La MEDIANA de los datos en la columna valor es: 2972.525\n",
            "La DESVIACION ESTANDAR de los datos en la columna valor es: 730.324\n",
            "El valor MAXIMO de los datos en la columna valor es: 5061.21\n",
            "El valor MINIMO de los datos en la columna valor es: 1846.12\n",
            "El RANGO de los datos en la columna valor es: 3215.09\n"
          ]
        }
      ]
    },
    {
      "cell_type": "markdown",
      "source": [
        "**Punto 3:** Resumen de los datos numericos"
      ],
      "metadata": {
        "id": "mw5IRQ1m99tE"
      }
    },
    {
      "cell_type": "code",
      "source": [
        "# Primero remplazo la columna 'valor' con los datos que ya están en un tipo calculable como lo es float\n",
        "df['valor']= valorn\n",
        "\n",
        "# Simplemente usando el metodo '.describe' podriamos ver un resumen de los datos del dataframe\n",
        "df.describe()\n"
      ],
      "metadata": {
        "colab": {
          "base_uri": "https://localhost:8080/",
          "height": 300
        },
        "id": "U6XVC76Y5RpS",
        "outputId": "7dd35f5f-ea0c-42eb-b3d1-4b9ff05ca7ab"
      },
      "execution_count": 5,
      "outputs": [
        {
          "output_type": "execute_result",
          "data": {
            "text/plain": [
              "             valor\n",
              "count  1000.000000\n",
              "mean   3042.376510\n",
              "std     730.689006\n",
              "min    1846.120000\n",
              "25%    2500.497500\n",
              "50%    2972.525000\n",
              "75%    3646.340000\n",
              "max    5061.210000"
            ],
            "text/html": [
              "\n",
              "  <div id=\"df-4c3f6e77-1fc1-4af4-9e5d-4b5c07c93776\">\n",
              "    <div class=\"colab-df-container\">\n",
              "      <div>\n",
              "<style scoped>\n",
              "    .dataframe tbody tr th:only-of-type {\n",
              "        vertical-align: middle;\n",
              "    }\n",
              "\n",
              "    .dataframe tbody tr th {\n",
              "        vertical-align: top;\n",
              "    }\n",
              "\n",
              "    .dataframe thead th {\n",
              "        text-align: right;\n",
              "    }\n",
              "</style>\n",
              "<table border=\"1\" class=\"dataframe\">\n",
              "  <thead>\n",
              "    <tr style=\"text-align: right;\">\n",
              "      <th></th>\n",
              "      <th>valor</th>\n",
              "    </tr>\n",
              "  </thead>\n",
              "  <tbody>\n",
              "    <tr>\n",
              "      <th>count</th>\n",
              "      <td>1000.000000</td>\n",
              "    </tr>\n",
              "    <tr>\n",
              "      <th>mean</th>\n",
              "      <td>3042.376510</td>\n",
              "    </tr>\n",
              "    <tr>\n",
              "      <th>std</th>\n",
              "      <td>730.689006</td>\n",
              "    </tr>\n",
              "    <tr>\n",
              "      <th>min</th>\n",
              "      <td>1846.120000</td>\n",
              "    </tr>\n",
              "    <tr>\n",
              "      <th>25%</th>\n",
              "      <td>2500.497500</td>\n",
              "    </tr>\n",
              "    <tr>\n",
              "      <th>50%</th>\n",
              "      <td>2972.525000</td>\n",
              "    </tr>\n",
              "    <tr>\n",
              "      <th>75%</th>\n",
              "      <td>3646.340000</td>\n",
              "    </tr>\n",
              "    <tr>\n",
              "      <th>max</th>\n",
              "      <td>5061.210000</td>\n",
              "    </tr>\n",
              "  </tbody>\n",
              "</table>\n",
              "</div>\n",
              "      <button class=\"colab-df-convert\" onclick=\"convertToInteractive('df-4c3f6e77-1fc1-4af4-9e5d-4b5c07c93776')\"\n",
              "              title=\"Convert this dataframe to an interactive table.\"\n",
              "              style=\"display:none;\">\n",
              "        \n",
              "  <svg xmlns=\"http://www.w3.org/2000/svg\" height=\"24px\"viewBox=\"0 0 24 24\"\n",
              "       width=\"24px\">\n",
              "    <path d=\"M0 0h24v24H0V0z\" fill=\"none\"/>\n",
              "    <path d=\"M18.56 5.44l.94 2.06.94-2.06 2.06-.94-2.06-.94-.94-2.06-.94 2.06-2.06.94zm-11 1L8.5 8.5l.94-2.06 2.06-.94-2.06-.94L8.5 2.5l-.94 2.06-2.06.94zm10 10l.94 2.06.94-2.06 2.06-.94-2.06-.94-.94-2.06-.94 2.06-2.06.94z\"/><path d=\"M17.41 7.96l-1.37-1.37c-.4-.4-.92-.59-1.43-.59-.52 0-1.04.2-1.43.59L10.3 9.45l-7.72 7.72c-.78.78-.78 2.05 0 2.83L4 21.41c.39.39.9.59 1.41.59.51 0 1.02-.2 1.41-.59l7.78-7.78 2.81-2.81c.8-.78.8-2.07 0-2.86zM5.41 20L4 18.59l7.72-7.72 1.47 1.35L5.41 20z\"/>\n",
              "  </svg>\n",
              "      </button>\n",
              "      \n",
              "  <style>\n",
              "    .colab-df-container {\n",
              "      display:flex;\n",
              "      flex-wrap:wrap;\n",
              "      gap: 12px;\n",
              "    }\n",
              "\n",
              "    .colab-df-convert {\n",
              "      background-color: #E8F0FE;\n",
              "      border: none;\n",
              "      border-radius: 50%;\n",
              "      cursor: pointer;\n",
              "      display: none;\n",
              "      fill: #1967D2;\n",
              "      height: 32px;\n",
              "      padding: 0 0 0 0;\n",
              "      width: 32px;\n",
              "    }\n",
              "\n",
              "    .colab-df-convert:hover {\n",
              "      background-color: #E2EBFA;\n",
              "      box-shadow: 0px 1px 2px rgba(60, 64, 67, 0.3), 0px 1px 3px 1px rgba(60, 64, 67, 0.15);\n",
              "      fill: #174EA6;\n",
              "    }\n",
              "\n",
              "    [theme=dark] .colab-df-convert {\n",
              "      background-color: #3B4455;\n",
              "      fill: #D2E3FC;\n",
              "    }\n",
              "\n",
              "    [theme=dark] .colab-df-convert:hover {\n",
              "      background-color: #434B5C;\n",
              "      box-shadow: 0px 1px 3px 1px rgba(0, 0, 0, 0.15);\n",
              "      filter: drop-shadow(0px 1px 2px rgba(0, 0, 0, 0.3));\n",
              "      fill: #FFFFFF;\n",
              "    }\n",
              "  </style>\n",
              "\n",
              "      <script>\n",
              "        const buttonEl =\n",
              "          document.querySelector('#df-4c3f6e77-1fc1-4af4-9e5d-4b5c07c93776 button.colab-df-convert');\n",
              "        buttonEl.style.display =\n",
              "          google.colab.kernel.accessAllowed ? 'block' : 'none';\n",
              "\n",
              "        async function convertToInteractive(key) {\n",
              "          const element = document.querySelector('#df-4c3f6e77-1fc1-4af4-9e5d-4b5c07c93776');\n",
              "          const dataTable =\n",
              "            await google.colab.kernel.invokeFunction('convertToInteractive',\n",
              "                                                     [key], {});\n",
              "          if (!dataTable) return;\n",
              "\n",
              "          const docLinkHtml = 'Like what you see? Visit the ' +\n",
              "            '<a target=\"_blank\" href=https://colab.research.google.com/notebooks/data_table.ipynb>data table notebook</a>'\n",
              "            + ' to learn more about interactive tables.';\n",
              "          element.innerHTML = '';\n",
              "          dataTable['output_type'] = 'display_data';\n",
              "          await google.colab.output.renderOutput(dataTable, element);\n",
              "          const docLink = document.createElement('div');\n",
              "          docLink.innerHTML = docLinkHtml;\n",
              "          element.appendChild(docLink);\n",
              "        }\n",
              "      </script>\n",
              "    </div>\n",
              "  </div>\n",
              "  "
            ]
          },
          "metadata": {},
          "execution_count": 5
        }
      ]
    },
    {
      "cell_type": "markdown",
      "source": [
        "**Punto 4:** Descripción del DataFrame"
      ],
      "metadata": {
        "id": "xdr4P_raAblR"
      }
    },
    {
      "cell_type": "code",
      "source": [
        "# Usando '.info' obtenemos información acerca del dataframe como la cantidad de datos, filas, columnas, la clase, el tipo y si tiene datos nulos\n",
        "df.info()"
      ],
      "metadata": {
        "colab": {
          "base_uri": "https://localhost:8080/"
        },
        "id": "KIlD4EPJ_hdO",
        "outputId": "ed276bd4-22dd-4de2-ac27-a6a5744f2949"
      },
      "execution_count": 6,
      "outputs": [
        {
          "output_type": "stream",
          "name": "stdout",
          "text": [
            "<class 'pandas.core.frame.DataFrame'>\n",
            "RangeIndex: 1000 entries, 0 to 999\n",
            "Data columns (total 4 columns):\n",
            " #   Column         Non-Null Count  Dtype  \n",
            "---  ------         --------------  -----  \n",
            " 0   valor          1000 non-null   float64\n",
            " 1   unidad         1000 non-null   object \n",
            " 2   vigenciadesde  1000 non-null   object \n",
            " 3   vigenciahasta  1000 non-null   object \n",
            "dtypes: float64(1), object(3)\n",
            "memory usage: 31.4+ KB\n"
          ]
        }
      ]
    },
    {
      "cell_type": "markdown",
      "source": [
        "**Punto 5:** Respresentaciones graficas de los datos"
      ],
      "metadata": {
        "id": "qq2gU95lAxxf"
      }
    },
    {
      "cell_type": "code",
      "source": [
        "# Con la caja de bigotes podemos evidenciar que todos los datos se encuentran dentro de la desviación estandar lo que quieres decir que no hay datos atipicos\n",
        "\n",
        "df.boxplot()\n",
        "plt.title('DIAGRAMA CAJA PARA VALORES')\n",
        "plt.ylabel('Precio')\n",
        "plt.show()"
      ],
      "metadata": {
        "colab": {
          "base_uri": "https://localhost:8080/",
          "height": 452
        },
        "id": "p5y39WLhAEiZ",
        "outputId": "d32f808a-a33f-45c1-cc23-34580e8de499"
      },
      "execution_count": 7,
      "outputs": [
        {
          "output_type": "display_data",
          "data": {
            "text/plain": [
              "<Figure size 640x480 with 1 Axes>"
            ],
            "image/png": "[encoded data removed]"
          },
          "metadata": {}
        }
      ]
    },
    {
      "cell_type": "markdown",
      "source": [
        "**ANALISIS**\n",
        "Con la caja de bigotes podemos evidenciar que todos los datos se encuentran dentro de la desviación estandar lo que quieres decir que no hay datos atipicos y que la mayor parte del tiempo el dolara rondó ente los 2500 y los 3600\n"
      ],
      "metadata": {
        "id": "_YyAN0yNT0BL"
      }
    },
    {
      "cell_type": "code",
      "source": [
        "# Para hacer el diagrama de lineas primero organizaremos los datos desde la fecha más antigua hasta la más reciente\n",
        "data_o=df.sort_values(by=['vigenciadesde'])\n",
        "# Luego lo ponemos en una variable como una lista para solo tener los valores sin los index\n",
        "valor_o= list(data_o['valor'])\n",
        "\n",
        "#Ahora con el grafico de lineas podemos evidenciar que el dolar ha estado subiendo con gran diferencia entre marzo del 2014 hasta diciembre del 2022\n",
        "plt.plot(valor_o, color= 'green')\n",
        "plt.title('Respresentación cambio de precio en grafico de lineas')\n",
        "plt.ylabel('Precio')\n",
        "plt.xlabel('Tiempo desde 2014 hasta el 2022')\n",
        "plt.grid()\n",
        "plt.show()\n",
        "\n"
      ],
      "metadata": {
        "colab": {
          "base_uri": "https://localhost:8080/",
          "height": 472
        },
        "id": "mK1f3lBsDv-J",
        "outputId": "43c4b2d8-91ba-409e-baf3-c12147d2b792"
      },
      "execution_count": 8,
      "outputs": [
        {
          "output_type": "display_data",
          "data": {
            "text/plain": [
              "<Figure size 640x480 with 1 Axes>"
            ],
            "image/png": "[encoded data removed]"
          },
          "metadata": {}
        }
      ]
    },
    {
      "cell_type": "markdown",
      "source": [
        "**ANALISIS**\n",
        "Ahora con el grafico de lineas podemos evidenciar que el dolar ha estado subiendo con gran diferencia entre marzo del 2014 hasta diciembre del 2022, notando que hay ocaciones donde este sube de manera repentina y en gran cantidad."
      ],
      "metadata": {
        "id": "1K6rbzvWTnnk"
      }
    },
    {
      "cell_type": "markdown",
      "source": [
        "**Punto 6:** Cargando datos desde el portal de datos publicos de colombia con socrata"
      ],
      "metadata": {
        "id": "VQt26bTSnCJR"
      }
    },
    {
      "cell_type": "code",
      "source": [
        "# Con socrata especificamos el cliente y guardamos los datos en unas variable\n",
        "# En este caso usaremos una base de datos que contiene los suicidios que se presentaron en Neiva desde 2014 al 2022 y algunas caracteristicas\n",
        "#https://www.datos.gov.co/Estad-sticas-Nacionales/SUICIDIOS-2014-MARZO-2022-NEIVA/gh4e-xuyg\n",
        "\n",
        "client2= Socrata('www.datos.gov.co', None)\n",
        "\n",
        "result2= client.get('gh4e-xuyg')\n",
        "sui_df= pd.DataFrame.from_records(result2)\n",
        "\n",
        "sui_df"
      ],
      "metadata": {
        "colab": {
          "base_uri": "https://localhost:8080/",
          "height": 679
        },
        "id": "_x2yEgXsnBsz",
        "outputId": "27753b13-6045-4875-f346-0da4be430c58"
      },
      "execution_count": 190,
      "outputs": [
        {
          "output_type": "stream",
          "name": "stderr",
          "text": [
            "WARNING:root:Requests made without an app_token will be subject to strict throttling limits.\n"
          ]
        },
        {
          "output_type": "execute_result",
          "data": {
            "text/plain": [
              "             fecha_del_hecho dia_de_la_semana     hora_del_hecho_hh_mm  \\\n",
              "0    2014-05-21T00:00:00.000        miércoles                        0   \n",
              "1    2014-06-03T00:00:00.000           martes                        0   \n",
              "2    2014-06-06T00:00:00.000          viernes                        0   \n",
              "3    2014-06-16T00:00:00.000            lunes                        0   \n",
              "4    2014-06-26T00:00:00.000           jueves                        0   \n",
              "..                       ...              ...                      ...   \n",
              "182  2022-01-26T00:00:00.000        miercoles  1899-12-31T13:50:00.000   \n",
              "183  2022-02-14T00:00:00.000           martes  1899-12-31T11:55:00.000   \n",
              "184  2022-02-17T00:00:00.000           Jueves  1899-12-31T21:30:00.000   \n",
              "185  2022-02-21T00:00:00.000            Lunes  1899-12-31T16:30:00.000   \n",
              "186  2022-03-07T00:00:00.000            Lunes  1899-12-31T10:30:00.000   \n",
              "\n",
              "    comuna_corregimiento area_del_hecho    clase_de_area_hecho     genero  \\\n",
              "0                      1    Zona Urbana                   Casa  Masculino   \n",
              "1                      7    Zona Urbana                   Casa  Masculino   \n",
              "2                      4    Zona Urbana               Sin Dato  Masculino   \n",
              "3              Vegalarga     Zona Rural  Finca o Campo Abierto  Masculino   \n",
              "4                     10    Zona Urbana                   Casa   Femenino   \n",
              "..                   ...            ...                    ...        ...   \n",
              "182                    1    Zona Urbana                   Casa  Masculino   \n",
              "183                    6    Zona Urbana                   Casa  Masculino   \n",
              "184                    4    Zona Urbana               Sin Dato  Masculino   \n",
              "185                    6    Zona Urbana                   Casa  Masculino   \n",
              "186                    1    Zona Urbana                   Casa  Masculino   \n",
              "\n",
              "    edad mecanismo_muerte evento_relacionado_con_el  \n",
              "0     71     Ahorcamiento                  Sin Dato  \n",
              "1     15     Ahorcamiento                  Sin Dato  \n",
              "2     32     Intoxicación                  Sin Dato  \n",
              "3     49     Ahorcamiento   Conflicto con la Pareja  \n",
              "4     20     Ahorcamiento                  Sin Dato  \n",
              "..   ...              ...                       ...  \n",
              "182   69     Ahorcamiento                  Sin Dato  \n",
              "183   56     Ahorcamiento                  Sin Dato  \n",
              "184   60     Ahorcamiento                  Sin Dato  \n",
              "185   86    Arma de Fuego      Otro Tipo de Eventos  \n",
              "186   59     Ahorcamiento      Otro Tipo de Eventos  \n",
              "\n",
              "[187 rows x 10 columns]"
            ],
            "text/html": [
              "\n",
              "  <div id=\"df-84354a1f-2b10-48ab-a875-65637b84a886\">\n",
              "    <div class=\"colab-df-container\">\n",
              "      <div>\n",
              "<style scoped>\n",
              "    .dataframe tbody tr th:only-of-type {\n",
              "        vertical-align: middle;\n",
              "    }\n",
              "\n",
              "    .dataframe tbody tr th {\n",
              "        vertical-align: top;\n",
              "    }\n",
              "\n",
              "    .dataframe thead th {\n",
              "        text-align: right;\n",
              "    }\n",
              "</style>\n",
              "<table border=\"1\" class=\"dataframe\">\n",
              "  <thead>\n",
              "    <tr style=\"text-align: right;\">\n",
              "      <th></th>\n",
              "      <th>fecha_del_hecho</th>\n",
              "      <th>dia_de_la_semana</th>\n",
              "      <th>hora_del_hecho_hh_mm</th>\n",
              "      <th>comuna_corregimiento</th>\n",
              "      <th>area_del_hecho</th>\n",
              "      <th>clase_de_area_hecho</th>\n",
              "      <th>genero</th>\n",
              "      <th>edad</th>\n",
              "      <th>mecanismo_muerte</th>\n",
              "      <th>evento_relacionado_con_el</th>\n",
              "    </tr>\n",
              "  </thead>\n",
              "  <tbody>\n",
              "    <tr>\n",
              "      <th>0</th>\n",
              "      <td>2014-05-21T00:00:00.000</td>\n",
              "      <td>miércoles</td>\n",
              "      <td>0</td>\n",
              "      <td>1</td>\n",
              "      <td>Zona Urbana</td>\n",
              "      <td>Casa</td>\n",
              "      <td>Masculino</td>\n",
              "      <td>71</td>\n",
              "      <td>Ahorcamiento</td>\n",
              "      <td>Sin Dato</td>\n",
              "    </tr>\n",
              "    <tr>\n",
              "      <th>1</th>\n",
              "      <td>2014-06-03T00:00:00.000</td>\n",
              "      <td>martes</td>\n",
              "      <td>0</td>\n",
              "      <td>7</td>\n",
              "      <td>Zona Urbana</td>\n",
              "      <td>Casa</td>\n",
              "      <td>Masculino</td>\n",
              "      <td>15</td>\n",
              "      <td>Ahorcamiento</td>\n",
              "      <td>Sin Dato</td>\n",
              "    </tr>\n",
              "    <tr>\n",
              "      <th>2</th>\n",
              "      <td>2014-06-06T00:00:00.000</td>\n",
              "      <td>viernes</td>\n",
              "      <td>0</td>\n",
              "      <td>4</td>\n",
              "      <td>Zona Urbana</td>\n",
              "      <td>Sin Dato</td>\n",
              "      <td>Masculino</td>\n",
              "      <td>32</td>\n",
              "      <td>Intoxicación</td>\n",
              "      <td>Sin Dato</td>\n",
              "    </tr>\n",
              "    <tr>\n",
              "      <th>3</th>\n",
              "      <td>2014-06-16T00:00:00.000</td>\n",
              "      <td>lunes</td>\n",
              "      <td>0</td>\n",
              "      <td>Vegalarga</td>\n",
              "      <td>Zona Rural</td>\n",
              "      <td>Finca o Campo Abierto</td>\n",
              "      <td>Masculino</td>\n",
              "      <td>49</td>\n",
              "      <td>Ahorcamiento</td>\n",
              "      <td>Conflicto con la Pareja</td>\n",
              "    </tr>\n",
              "    <tr>\n",
              "      <th>4</th>\n",
              "      <td>2014-06-26T00:00:00.000</td>\n",
              "      <td>jueves</td>\n",
              "      <td>0</td>\n",
              "      <td>10</td>\n",
              "      <td>Zona Urbana</td>\n",
              "      <td>Casa</td>\n",
              "      <td>Femenino</td>\n",
              "      <td>20</td>\n",
              "      <td>Ahorcamiento</td>\n",
              "      <td>Sin Dato</td>\n",
              "    </tr>\n",
              "    <tr>\n",
              "      <th>...</th>\n",
              "      <td>...</td>\n",
              "      <td>...</td>\n",
              "      <td>...</td>\n",
              "      <td>...</td>\n",
              "      <td>...</td>\n",
              "      <td>...</td>\n",
              "      <td>...</td>\n",
              "      <td>...</td>\n",
              "      <td>...</td>\n",
              "      <td>...</td>\n",
              "    </tr>\n",
              "    <tr>\n",
              "      <th>182</th>\n",
              "      <td>2022-01-26T00:00:00.000</td>\n",
              "      <td>miercoles</td>\n",
              "      <td>1899-12-31T13:50:00.000</td>\n",
              "      <td>1</td>\n",
              "      <td>Zona Urbana</td>\n",
              "      <td>Casa</td>\n",
              "      <td>Masculino</td>\n",
              "      <td>69</td>\n",
              "      <td>Ahorcamiento</td>\n",
              "      <td>Sin Dato</td>\n",
              "    </tr>\n",
              "    <tr>\n",
              "      <th>183</th>\n",
              "      <td>2022-02-14T00:00:00.000</td>\n",
              "      <td>martes</td>\n",
              "      <td>1899-12-31T11:55:00.000</td>\n",
              "      <td>6</td>\n",
              "      <td>Zona Urbana</td>\n",
              "      <td>Casa</td>\n",
              "      <td>Masculino</td>\n",
              "      <td>56</td>\n",
              "      <td>Ahorcamiento</td>\n",
              "      <td>Sin Dato</td>\n",
              "    </tr>\n",
              "    <tr>\n",
              "      <th>184</th>\n",
              "      <td>2022-02-17T00:00:00.000</td>\n",
              "      <td>Jueves</td>\n",
              "      <td>1899-12-31T21:30:00.000</td>\n",
              "      <td>4</td>\n",
              "      <td>Zona Urbana</td>\n",
              "      <td>Sin Dato</td>\n",
              "      <td>Masculino</td>\n",
              "      <td>60</td>\n",
              "      <td>Ahorcamiento</td>\n",
              "      <td>Sin Dato</td>\n",
              "    </tr>\n",
              "    <tr>\n",
              "      <th>185</th>\n",
              "      <td>2022-02-21T00:00:00.000</td>\n",
              "      <td>Lunes</td>\n",
              "      <td>1899-12-31T16:30:00.000</td>\n",
              "      <td>6</td>\n",
              "      <td>Zona Urbana</td>\n",
              "      <td>Casa</td>\n",
              "      <td>Masculino</td>\n",
              "      <td>86</td>\n",
              "      <td>Arma de Fuego</td>\n",
              "      <td>Otro Tipo de Eventos</td>\n",
              "    </tr>\n",
              "    <tr>\n",
              "      <th>186</th>\n",
              "      <td>2022-03-07T00:00:00.000</td>\n",
              "      <td>Lunes</td>\n",
              "      <td>1899-12-31T10:30:00.000</td>\n",
              "      <td>1</td>\n",
              "      <td>Zona Urbana</td>\n",
              "      <td>Casa</td>\n",
              "      <td>Masculino</td>\n",
              "      <td>59</td>\n",
              "      <td>Ahorcamiento</td>\n",
              "      <td>Otro Tipo de Eventos</td>\n",
              "    </tr>\n",
              "  </tbody>\n",
              "</table>\n",
              "<p>187 rows × 10 columns</p>\n",
              "</div>\n",
              "      <button class=\"colab-df-convert\" onclick=\"convertToInteractive('df-84354a1f-2b10-48ab-a875-65637b84a886')\"\n",
              "              title=\"Convert this dataframe to an interactive table.\"\n",
              "              style=\"display:none;\">\n",
              "        \n",
              "  <svg xmlns=\"http://www.w3.org/2000/svg\" height=\"24px\"viewBox=\"0 0 24 24\"\n",
              "       width=\"24px\">\n",
              "    <path d=\"M0 0h24v24H0V0z\" fill=\"none\"/>\n",
              "    <path d=\"M18.56 5.44l.94 2.06.94-2.06 2.06-.94-2.06-.94-.94-2.06-.94 2.06-2.06.94zm-11 1L8.5 8.5l.94-2.06 2.06-.94-2.06-.94L8.5 2.5l-.94 2.06-2.06.94zm10 10l.94 2.06.94-2.06 2.06-.94-2.06-.94-.94-2.06-.94 2.06-2.06.94z\"/><path d=\"M17.41 7.96l-1.37-1.37c-.4-.4-.92-.59-1.43-.59-.52 0-1.04.2-1.43.59L10.3 9.45l-7.72 7.72c-.78.78-.78 2.05 0 2.83L4 21.41c.39.39.9.59 1.41.59.51 0 1.02-.2 1.41-.59l7.78-7.78 2.81-2.81c.8-.78.8-2.07 0-2.86zM5.41 20L4 18.59l7.72-7.72 1.47 1.35L5.41 20z\"/>\n",
              "  </svg>\n",
              "      </button>\n",
              "      \n",
              "  <style>\n",
              "    .colab-df-container {\n",
              "      display:flex;\n",
              "      flex-wrap:wrap;\n",
              "      gap: 12px;\n",
              "    }\n",
              "\n",
              "    .colab-df-convert {\n",
              "      background-color: #E8F0FE;\n",
              "      border: none;\n",
              "      border-radius: 50%;\n",
              "      cursor: pointer;\n",
              "      display: none;\n",
              "      fill: #1967D2;\n",
              "      height: 32px;\n",
              "      padding: 0 0 0 0;\n",
              "      width: 32px;\n",
              "    }\n",
              "\n",
              "    .colab-df-convert:hover {\n",
              "      background-color: #E2EBFA;\n",
              "      box-shadow: 0px 1px 2px rgba(60, 64, 67, 0.3), 0px 1px 3px 1px rgba(60, 64, 67, 0.15);\n",
              "      fill: #174EA6;\n",
              "    }\n",
              "\n",
              "    [theme=dark] .colab-df-convert {\n",
              "      background-color: #3B4455;\n",
              "      fill: #D2E3FC;\n",
              "    }\n",
              "\n",
              "    [theme=dark] .colab-df-convert:hover {\n",
              "      background-color: #434B5C;\n",
              "      box-shadow: 0px 1px 3px 1px rgba(0, 0, 0, 0.15);\n",
              "      filter: drop-shadow(0px 1px 2px rgba(0, 0, 0, 0.3));\n",
              "      fill: #FFFFFF;\n",
              "    }\n",
              "  </style>\n",
              "\n",
              "      <script>\n",
              "        const buttonEl =\n",
              "          document.querySelector('#df-84354a1f-2b10-48ab-a875-65637b84a886 button.colab-df-convert');\n",
              "        buttonEl.style.display =\n",
              "          google.colab.kernel.accessAllowed ? 'block' : 'none';\n",
              "\n",
              "        async function convertToInteractive(key) {\n",
              "          const element = document.querySelector('#df-84354a1f-2b10-48ab-a875-65637b84a886');\n",
              "          const dataTable =\n",
              "            await google.colab.kernel.invokeFunction('convertToInteractive',\n",
              "                                                     [key], {});\n",
              "          if (!dataTable) return;\n",
              "\n",
              "          const docLinkHtml = 'Like what you see? Visit the ' +\n",
              "            '<a target=\"_blank\" href=https://colab.research.google.com/notebooks/data_table.ipynb>data table notebook</a>'\n",
              "            + ' to learn more about interactive tables.';\n",
              "          element.innerHTML = '';\n",
              "          dataTable['output_type'] = 'display_data';\n",
              "          await google.colab.output.renderOutput(dataTable, element);\n",
              "          const docLink = document.createElement('div');\n",
              "          docLink.innerHTML = docLinkHtml;\n",
              "          element.appendChild(docLink);\n",
              "        }\n",
              "      </script>\n",
              "    </div>\n",
              "  </div>\n",
              "  "
            ]
          },
          "metadata": {},
          "execution_count": 190
        }
      ]
    },
    {
      "cell_type": "markdown",
      "source": [
        "**Punto 7:** Limpieza y transformación."
      ],
      "metadata": {
        "id": "MKH-oODRaije"
      }
    },
    {
      "cell_type": "code",
      "source": [
        "# Observamos que no contamos con datos nulos\n",
        "sui_df.info()"
      ],
      "metadata": {
        "id": "HOmx2oDNq0jL"
      },
      "execution_count": null,
      "outputs": []
    },
    {
      "cell_type": "code",
      "source": [
        "# Por lo tanto el unico cambio que le haremos al DataFrame antes de empezar a analizarlo será el cambio de tipo de edad por datos de dipo int\n",
        "sui_df['edad']=(sui_df['edad'].astype(int))\n",
        "sui_df.info()"
      ],
      "metadata": {
        "colab": {
          "base_uri": "https://localhost:8080/"
        },
        "id": "f-5XntVubNLv",
        "outputId": "cc5b40ac-f77e-4769-ede5-83461c62c692"
      },
      "execution_count": 50,
      "outputs": [
        {
          "output_type": "stream",
          "name": "stdout",
          "text": [
            "<class 'pandas.core.frame.DataFrame'>\n",
            "RangeIndex: 187 entries, 0 to 186\n",
            "Data columns (total 10 columns):\n",
            " #   Column                     Non-Null Count  Dtype \n",
            "---  ------                     --------------  ----- \n",
            " 0   fecha_del_hecho            187 non-null    object\n",
            " 1   dia_de_la_semana           187 non-null    object\n",
            " 2   hora_del_hecho_hh_mm       187 non-null    object\n",
            " 3   comuna_corregimiento       187 non-null    object\n",
            " 4   area_del_hecho             187 non-null    object\n",
            " 5   clase_de_area_hecho        187 non-null    object\n",
            " 6   genero                     187 non-null    object\n",
            " 7   edad                       187 non-null    int64 \n",
            " 8   mecanismo_muerte           187 non-null    object\n",
            " 9   evento_relacionado_con_el  187 non-null    object\n",
            "dtypes: int64(1), object(9)\n",
            "memory usage: 14.7+ KB\n"
          ]
        }
      ]
    },
    {
      "cell_type": "code",
      "source": [
        "# Observamos que mi DF no cuenta con datos duplicados\n",
        "con=0\n",
        "for i in sui_df.duplicated():\n",
        "  if i == True:\n",
        "    con+=1\n",
        "print(con)"
      ],
      "metadata": {
        "colab": {
          "base_uri": "https://localhost:8080/"
        },
        "id": "Gr9KGYZxBSIk",
        "outputId": "f291ac28-1f6c-4fdf-b9a9-43b316ee09c9"
      },
      "execution_count": 51,
      "outputs": [
        {
          "output_type": "stream",
          "name": "stdout",
          "text": [
            "0\n"
          ]
        }
      ]
    },
    {
      "cell_type": "markdown",
      "source": [
        "**PUNTO 8:** Estadistica"
      ],
      "metadata": {
        "id": "KikZAgdJ1Qvl"
      }
    },
    {
      "cell_type": "code",
      "source": [
        "sui_df.describe()"
      ],
      "metadata": {
        "colab": {
          "base_uri": "https://localhost:8080/",
          "height": 300
        },
        "id": "kpkUqsvgEAo8",
        "outputId": "411c5016-37c8-4773-c709-04f7b477af27"
      },
      "execution_count": 61,
      "outputs": [
        {
          "output_type": "execute_result",
          "data": {
            "text/plain": [
              "             edad\n",
              "count  187.000000\n",
              "mean    38.000000\n",
              "std     19.305969\n",
              "min     11.000000\n",
              "25%     22.000000\n",
              "50%     32.000000\n",
              "75%     51.500000\n",
              "max     93.000000"
            ],
            "text/html": [
              "\n",
              "  <div id=\"df-edf7452a-dcd5-4ef1-9120-d7f976a0bbfa\">\n",
              "    <div class=\"colab-df-container\">\n",
              "      <div>\n",
              "<style scoped>\n",
              "    .dataframe tbody tr th:only-of-type {\n",
              "        vertical-align: middle;\n",
              "    }\n",
              "\n",
              "    .dataframe tbody tr th {\n",
              "        vertical-align: top;\n",
              "    }\n",
              "\n",
              "    .dataframe thead th {\n",
              "        text-align: right;\n",
              "    }\n",
              "</style>\n",
              "<table border=\"1\" class=\"dataframe\">\n",
              "  <thead>\n",
              "    <tr style=\"text-align: right;\">\n",
              "      <th></th>\n",
              "      <th>edad</th>\n",
              "    </tr>\n",
              "  </thead>\n",
              "  <tbody>\n",
              "    <tr>\n",
              "      <th>count</th>\n",
              "      <td>187.000000</td>\n",
              "    </tr>\n",
              "    <tr>\n",
              "      <th>mean</th>\n",
              "      <td>38.000000</td>\n",
              "    </tr>\n",
              "    <tr>\n",
              "      <th>std</th>\n",
              "      <td>19.305969</td>\n",
              "    </tr>\n",
              "    <tr>\n",
              "      <th>min</th>\n",
              "      <td>11.000000</td>\n",
              "    </tr>\n",
              "    <tr>\n",
              "      <th>25%</th>\n",
              "      <td>22.000000</td>\n",
              "    </tr>\n",
              "    <tr>\n",
              "      <th>50%</th>\n",
              "      <td>32.000000</td>\n",
              "    </tr>\n",
              "    <tr>\n",
              "      <th>75%</th>\n",
              "      <td>51.500000</td>\n",
              "    </tr>\n",
              "    <tr>\n",
              "      <th>max</th>\n",
              "      <td>93.000000</td>\n",
              "    </tr>\n",
              "  </tbody>\n",
              "</table>\n",
              "</div>\n",
              "      <button class=\"colab-df-convert\" onclick=\"convertToInteractive('df-edf7452a-dcd5-4ef1-9120-d7f976a0bbfa')\"\n",
              "              title=\"Convert this dataframe to an interactive table.\"\n",
              "              style=\"display:none;\">\n",
              "        \n",
              "  <svg xmlns=\"http://www.w3.org/2000/svg\" height=\"24px\"viewBox=\"0 0 24 24\"\n",
              "       width=\"24px\">\n",
              "    <path d=\"M0 0h24v24H0V0z\" fill=\"none\"/>\n",
              "    <path d=\"M18.56 5.44l.94 2.06.94-2.06 2.06-.94-2.06-.94-.94-2.06-.94 2.06-2.06.94zm-11 1L8.5 8.5l.94-2.06 2.06-.94-2.06-.94L8.5 2.5l-.94 2.06-2.06.94zm10 10l.94 2.06.94-2.06 2.06-.94-2.06-.94-.94-2.06-.94 2.06-2.06.94z\"/><path d=\"M17.41 7.96l-1.37-1.37c-.4-.4-.92-.59-1.43-.59-.52 0-1.04.2-1.43.59L10.3 9.45l-7.72 7.72c-.78.78-.78 2.05 0 2.83L4 21.41c.39.39.9.59 1.41.59.51 0 1.02-.2 1.41-.59l7.78-7.78 2.81-2.81c.8-.78.8-2.07 0-2.86zM5.41 20L4 18.59l7.72-7.72 1.47 1.35L5.41 20z\"/>\n",
              "  </svg>\n",
              "      </button>\n",
              "      \n",
              "  <style>\n",
              "    .colab-df-container {\n",
              "      display:flex;\n",
              "      flex-wrap:wrap;\n",
              "      gap: 12px;\n",
              "    }\n",
              "\n",
              "    .colab-df-convert {\n",
              "      background-color: #E8F0FE;\n",
              "      border: none;\n",
              "      border-radius: 50%;\n",
              "      cursor: pointer;\n",
              "      display: none;\n",
              "      fill: #1967D2;\n",
              "      height: 32px;\n",
              "      padding: 0 0 0 0;\n",
              "      width: 32px;\n",
              "    }\n",
              "\n",
              "    .colab-df-convert:hover {\n",
              "      background-color: #E2EBFA;\n",
              "      box-shadow: 0px 1px 2px rgba(60, 64, 67, 0.3), 0px 1px 3px 1px rgba(60, 64, 67, 0.15);\n",
              "      fill: #174EA6;\n",
              "    }\n",
              "\n",
              "    [theme=dark] .colab-df-convert {\n",
              "      background-color: #3B4455;\n",
              "      fill: #D2E3FC;\n",
              "    }\n",
              "\n",
              "    [theme=dark] .colab-df-convert:hover {\n",
              "      background-color: #434B5C;\n",
              "      box-shadow: 0px 1px 3px 1px rgba(0, 0, 0, 0.15);\n",
              "      filter: drop-shadow(0px 1px 2px rgba(0, 0, 0, 0.3));\n",
              "      fill: #FFFFFF;\n",
              "    }\n",
              "  </style>\n",
              "\n",
              "      <script>\n",
              "        const buttonEl =\n",
              "          document.querySelector('#df-edf7452a-dcd5-4ef1-9120-d7f976a0bbfa button.colab-df-convert');\n",
              "        buttonEl.style.display =\n",
              "          google.colab.kernel.accessAllowed ? 'block' : 'none';\n",
              "\n",
              "        async function convertToInteractive(key) {\n",
              "          const element = document.querySelector('#df-edf7452a-dcd5-4ef1-9120-d7f976a0bbfa');\n",
              "          const dataTable =\n",
              "            await google.colab.kernel.invokeFunction('convertToInteractive',\n",
              "                                                     [key], {});\n",
              "          if (!dataTable) return;\n",
              "\n",
              "          const docLinkHtml = 'Like what you see? Visit the ' +\n",
              "            '<a target=\"_blank\" href=https://colab.research.google.com/notebooks/data_table.ipynb>data table notebook</a>'\n",
              "            + ' to learn more about interactive tables.';\n",
              "          element.innerHTML = '';\n",
              "          dataTable['output_type'] = 'display_data';\n",
              "          await google.colab.output.renderOutput(dataTable, element);\n",
              "          const docLink = document.createElement('div');\n",
              "          docLink.innerHTML = docLinkHtml;\n",
              "          element.appendChild(docLink);\n",
              "        }\n",
              "      </script>\n",
              "    </div>\n",
              "  </div>\n",
              "  "
            ]
          },
          "metadata": {},
          "execution_count": 61
        }
      ]
    },
    {
      "cell_type": "code",
      "source": [
        "sui_df['edad'].std()"
      ],
      "metadata": {
        "colab": {
          "base_uri": "https://localhost:8080/"
        },
        "id": "ymW7fwACFvol",
        "outputId": "ebab333e-a3cf-4cc7-f4f8-205b0826cd36"
      },
      "execution_count": 63,
      "outputs": [
        {
          "output_type": "execute_result",
          "data": {
            "text/plain": [
              "19.305968768946222"
            ]
          },
          "metadata": {},
          "execution_count": 63
        }
      ]
    },
    {
      "cell_type": "code",
      "source": [
        "# Por lo tanto comenzaremos a usar metodos estadisticos en el data frame\n",
        "\n",
        "print('La MEDIA de edad de suicidio en nevia es de:', int(sui_df['edad'].values.mean()), 'años')\n",
        "print('La MEDIANA de los datos en la columna EDAD es:', int(np.median(sui_df['edad'])), 'años')\n",
        "print('La DESVIACION ESTANDAR de los datos en la columna EDAD es:', round(sui_df['edad'].std(),3))\n",
        "print('La edad MAXIMA de suicidio en el DataFrame es:', int(sui_df['edad'].values.max(),), 'años')\n",
        "print('La edad MINIMA de suicidio en el DataFrame es:', int(sui_df['edad'].values.min(),), 'años')\n",
        "print('El RANGO de los datos en la columna valor es:', int(sui_df['edad'].values.max()-sui_df['edad'].values.min()))"
      ],
      "metadata": {
        "colab": {
          "base_uri": "https://localhost:8080/"
        },
        "id": "QuEaIR-pCvx1",
        "outputId": "d1041ed8-f93e-4e46-f023-e8c0eba80214"
      },
      "execution_count": 73,
      "outputs": [
        {
          "output_type": "stream",
          "name": "stdout",
          "text": [
            "La MEDIA de edad de suicidio en nevia es de: 38 años\n",
            "La MEDIANA de los datos en la columna EDAD es: 32 años\n",
            "La DESVIACION ESTANDAR de los datos en la columna EDAD es: 19.306\n",
            "La edad MAXIMA de suicidio en el DataFrame es: 93 años\n",
            "La edad MINIMA de suicidio en el DataFrame es: 11 años\n",
            "El RANGO de los datos en la columna valor es: 82\n"
          ]
        }
      ]
    },
    {
      "cell_type": "markdown",
      "source": [
        "**ANALISIS VALORES ESTADISTICOS EN EDAD**\n",
        "\n",
        "Algunos pensarían que el suicidio se ve más presente en la adolescencia, sin embargo podemos notar que en neiva en el periodo 2014-2022 la edad donde hubo mas suicidios fue al rededor de los 38 años.\n",
        "\n",
        "No obstante el suicidio está presente en un amplio rango de edad(82), donde podemos evidenciar que la persona más joven que cometio un suicidio era de tan solo 11 años y la mayor de 93"
      ],
      "metadata": {
        "id": "rvVA4GJtH_7u"
      }
    },
    {
      "cell_type": "code",
      "source": [
        "# Haremos un conteo por genero para asi obtener información sobre el genero que más comete suicidio\n",
        "con_muj=0\n",
        "con_hom=0\n",
        "for i in sui_df['genero']:\n",
        "  if i == 'Femenino':\n",
        "    con_muj+=1\n",
        "  else:\n",
        "    con_hom+=1\n",
        "\n",
        "print('La cantidad de MUJERES que cometieron suicidio entre 2014 y 2022 fueron:', con_muj)\n",
        "print('La cantidad de HOMBRES que cometieron suicidio entre 2014 y 2022 fueron:', con_hom)\n",
        "\n",
        "# Pongo en una serie los valores que sacamos a base del conte para asi poder graficarlo\n",
        "\n",
        "gener_sui=pd.Series({'Hombres':con_hom,'Mujeres': con_muj})\n",
        "color=['dodgerblue','violet']\n",
        "\n",
        "plt.pie(gener_sui, labels= gener_sui.index, autopct=\"%0.1f %%\", colors= color)\n",
        "plt.legend(title = 'Genero')\n",
        "plt.show()\n",
        "\n",
        "gener_sui"
      ],
      "metadata": {
        "colab": {
          "base_uri": "https://localhost:8080/",
          "height": 493
        },
        "id": "MQft4qDrJzQH",
        "outputId": "4a9b54bb-51e3-483d-8084-8de93b0bcee1"
      },
      "execution_count": 106,
      "outputs": [
        {
          "output_type": "stream",
          "name": "stdout",
          "text": [
            "La cantidad de MUJERES que cometieron suicidio entre 2014 y 2022 fueron: 27\n",
            "La cantidad de HOMBRES que cometieron suicidio entre 2014 y 2022 fueron: 160\n"
          ]
        },
        {
          "output_type": "display_data",
          "data": {
            "text/plain": [
              "<Figure size 640x480 with 1 Axes>"
            ],
            "image/png": "[encoded data removed]"
          },
          "metadata": {}
        },
        {
          "output_type": "execute_result",
          "data": {
            "text/plain": [
              "Hombres    160\n",
              "Mujeres     27\n",
              "dtype: int64"
            ]
          },
          "metadata": {},
          "execution_count": 106
        }
      ]
    },
    {
      "cell_type": "markdown",
      "source": [
        "**ANALISIS**\n",
        "\n",
        "Luego de haber hecho el conteo y graficar podemos evidenciar que con una amplia diferencia son los hombres quienes más cometen suicidio con un 85,6% del total del los datos a diferencia de las mujeres quienes son el 14,4% del total de los datos."
      ],
      "metadata": {
        "id": "qmMCsEbhRsgM"
      }
    },
    {
      "cell_type": "markdown",
      "source": [
        "**ANALISIS DESDE CHAT GPT**\n",
        "\n",
        "Comparación por género:\n",
        "Los datos indican que la cantidad de suicidios en hombres es mucho mayor que en mujeres. Esto es coherente con las tendencias globales, donde los hombres tienden a tener tasas más altas de suicidio en comparación con las mujeres."
      ],
      "metadata": {
        "id": "lLI9k0dlTIb9"
      }
    },
    {
      "cell_type": "code",
      "source": [
        "# Primero hacemos una función de contar los valores para luego agregarlos en una lista\n",
        "def contar(n, vec):\n",
        "  count=0\n",
        "  for i in vec:\n",
        "    if i==n:\n",
        "      count+=1\n",
        "  return count"
      ],
      "metadata": {
        "id": "40JZ9ql8anem"
      },
      "execution_count": 124,
      "outputs": []
    },
    {
      "cell_type": "code",
      "source": [
        "# Creamos una lista con el conteo de las fomas en que se cometio el suicidio\n",
        "\n",
        "form=[contar('Ahorcamiento', sui_df['mecanismo_muerte']), contar('Arma de Fuego', sui_df['mecanismo_muerte']),\n",
        "      contar('Corte',sui_df['mecanismo_muerte']), contar('Intoxicación', sui_df['mecanismo_muerte']),\n",
        "      contar('Lanzamiento al Vacío',sui_df['mecanismo_muerte']), contar('Otro Medios',sui_df['mecanismo_muerte'])]\n",
        "\n",
        "print(form)"
      ],
      "metadata": {
        "colab": {
          "base_uri": "https://localhost:8080/"
        },
        "id": "BYiQWo2aZdQH",
        "outputId": "493bc38d-e133-409b-cb76-1834a3bd74ec"
      },
      "execution_count": 132,
      "outputs": [
        {
          "output_type": "stream",
          "name": "stdout",
          "text": [
            "[143, 17, 2, 19, 4, 2]\n"
          ]
        }
      ]
    },
    {
      "cell_type": "code",
      "source": [
        "# Vamos a hacer un analisis de la forma en la que se comete el suicidio\n",
        "name=['AHOR', 'INTOX', 'ARMA', 'OTRO', 'LANZ', 'CORTE']\n",
        "plt.bar(name, form,width=0.9, color='aquamarine')\n",
        "plt.title('FORMAS DE SUICIDIO')\n",
        "plt.grid()\n",
        "plt.ylabel('CANTIDAD')\n",
        "plt.xlabel('FORMA')\n",
        "plt.show()\n",
        "print('--------------------------------------------------------------------------------')\n",
        "print('De los 187 suicidios',form[0], 'fueron por AHORCAMIENTO' )\n",
        "print('De los 187 suicidios',form[1], 'fueron por INTOXICACIÓN' )\n",
        "print('De los 187 suicidios',form[2], 'fueron con ARMA DE FUEGO' )\n",
        "print('De los 187 suicidios',form[3], 'fueron con OTRO METODO' )\n",
        "print('De los 187 suicidios',form[4], 'fueron por LANZAMIENTO' )\n",
        "print('De los 187 suicidios',form[5], 'fueron por CORTE' )"
      ],
      "metadata": {
        "colab": {
          "base_uri": "https://localhost:8080/",
          "height": 594
        },
        "id": "ypDemGs-TX2o",
        "outputId": "ff43e40d-b8e4-48e6-eed8-601d94ba5b6b"
      },
      "execution_count": 148,
      "outputs": [
        {
          "output_type": "display_data",
          "data": {
            "text/plain": [
              "<Figure size 640x480 with 1 Axes>"
            ],
            "image/png": "[encoded data removed]"
          },
          "metadata": {}
        },
        {
          "output_type": "stream",
          "name": "stdout",
          "text": [
            "--------------------------------------------------------------------------------\n",
            "De los 187 suicidios 143 fueron por AHORCAMIENTO\n",
            "De los 187 suicidios 17 fueron por INTOXICACIÓN\n",
            "De los 187 suicidios 2 fueron con ARMA DE FUEGO\n",
            "De los 187 suicidios 19 fueron con OTRO METODO\n",
            "De los 187 suicidios 4 fueron por LANZAMIENTO\n",
            "De los 187 suicidios 2 fueron por CORTE\n"
          ]
        }
      ]
    },
    {
      "cell_type": "markdown",
      "source": [
        "**ANALISIS**\n",
        "\n",
        "Podemos notar que el metodo mas usado para cometer suicidios es mediante el ahorcamiento con un registro de 143 casos mientras que el corte y el arma de fuego fueron los menos presentes dentro de los datos con solo 2 registros para cada uno.\n",
        "\n",
        "Es de notar que hay 19 registros que fueron suicidio con otro metodo que desconocemos y que considero que seria interesante hacer una investigación respecto a ese otro metodo para asi estar alertas y prevenir."
      ],
      "metadata": {
        "id": "HTFrpK5rfCOD"
      }
    },
    {
      "cell_type": "markdown",
      "source": [
        "***PUNTO 9: TABLAS PIVOTE Y AGRUPACIÓN***"
      ],
      "metadata": {
        "id": "01L-sUqygibk"
      }
    },
    {
      "cell_type": "markdown",
      "source": [
        "**COMUNAS Y CORREGIMIENTO DE NEIVA**\n",
        "\n",
        "Según la investigación que hice neiva cuenta con comunas que estan enumeradas como las localidades de bogotá, estas se enumeran asi:\n",
        "\n",
        "1. Comuna Noroccidental.\n",
        "2. Comuna Nororiental.\n",
        "3. Comuna Entre Ríos.\n",
        "4. Comuna Central.\n",
        "5. Comuna Oriental.\n",
        "6. Comuna Sur.\n",
        "7. Comuna La Floresta.\n",
        "8. Comuna Suroriental.\n",
        "9. Comuna Norte.\n",
        "10. Comuna Las Palmas.\n",
        "\n",
        "Y además cuenta con 8 corregimientos solo que estos ya no están enumerados es por esto que no aparecian como números en el DataFrame, los corregimientos son los siguientes:\n",
        "- Aipecito\n",
        "- Chapinero\n",
        "- San Luis\n",
        "- Guacirco\n",
        "- Fortalecillas\n",
        "- El Caguán\n",
        "- Vegalarga\n",
        "- Río de las Ceibas"
      ],
      "metadata": {
        "id": "KpKDo29CilWx"
      }
    },
    {
      "cell_type": "code",
      "source": [
        "# Iniciaremos con la tabla de agrupación donde podriamos ver la comuna o corregimiento donde ocurrio el suicidio\n",
        "# En el DataFrame los lugares aparecen como un numero que representan una comuna como se explico anteriormente y los corregimientos aparecen con nombre\n",
        "# Para esto usaremos el metodo de agrupación que nos ayudará a hacer el conteo de los casos que se registraron en dicho lugar\n",
        "\n",
        "sui_df.groupby(sui_df['comuna_corregimiento']).count()[['genero']]"
      ],
      "metadata": {
        "colab": {
          "base_uri": "https://localhost:8080/",
          "height": 520
        },
        "id": "0Jxu2AQOgiDn",
        "outputId": "7683acc5-c98d-4e73-a72c-85bbec17634b"
      },
      "execution_count": 149,
      "outputs": [
        {
          "output_type": "execute_result",
          "data": {
            "text/plain": [
              "                      genero\n",
              "comuna_corregimiento        \n",
              "1                         17\n",
              "10                        22\n",
              "2                         13\n",
              "3                         17\n",
              "4                         15\n",
              "5                         15\n",
              "6                         32\n",
              "7                         11\n",
              "8                         15\n",
              "9                         15\n",
              "Aipecito                   4\n",
              "El Caguán                  5\n",
              "Fortalecillas              1\n",
              "Vegalarga                  5"
            ],
            "text/html": [
              "\n",
              "  <div id=\"df-9ed2b8d4-1fd1-45a5-a8ed-c3824ce58e7d\">\n",
              "    <div class=\"colab-df-container\">\n",
              "      <div>\n",
              "<style scoped>\n",
              "    .dataframe tbody tr th:only-of-type {\n",
              "        vertical-align: middle;\n",
              "    }\n",
              "\n",
              "    .dataframe tbody tr th {\n",
              "        vertical-align: top;\n",
              "    }\n",
              "\n",
              "    .dataframe thead th {\n",
              "        text-align: right;\n",
              "    }\n",
              "</style>\n",
              "<table border=\"1\" class=\"dataframe\">\n",
              "  <thead>\n",
              "    <tr style=\"text-align: right;\">\n",
              "      <th></th>\n",
              "      <th>genero</th>\n",
              "    </tr>\n",
              "    <tr>\n",
              "      <th>comuna_corregimiento</th>\n",
              "      <th></th>\n",
              "    </tr>\n",
              "  </thead>\n",
              "  <tbody>\n",
              "    <tr>\n",
              "      <th>1</th>\n",
              "      <td>17</td>\n",
              "    </tr>\n",
              "    <tr>\n",
              "      <th>10</th>\n",
              "      <td>22</td>\n",
              "    </tr>\n",
              "    <tr>\n",
              "      <th>2</th>\n",
              "      <td>13</td>\n",
              "    </tr>\n",
              "    <tr>\n",
              "      <th>3</th>\n",
              "      <td>17</td>\n",
              "    </tr>\n",
              "    <tr>\n",
              "      <th>4</th>\n",
              "      <td>15</td>\n",
              "    </tr>\n",
              "    <tr>\n",
              "      <th>5</th>\n",
              "      <td>15</td>\n",
              "    </tr>\n",
              "    <tr>\n",
              "      <th>6</th>\n",
              "      <td>32</td>\n",
              "    </tr>\n",
              "    <tr>\n",
              "      <th>7</th>\n",
              "      <td>11</td>\n",
              "    </tr>\n",
              "    <tr>\n",
              "      <th>8</th>\n",
              "      <td>15</td>\n",
              "    </tr>\n",
              "    <tr>\n",
              "      <th>9</th>\n",
              "      <td>15</td>\n",
              "    </tr>\n",
              "    <tr>\n",
              "      <th>Aipecito</th>\n",
              "      <td>4</td>\n",
              "    </tr>\n",
              "    <tr>\n",
              "      <th>El Caguán</th>\n",
              "      <td>5</td>\n",
              "    </tr>\n",
              "    <tr>\n",
              "      <th>Fortalecillas</th>\n",
              "      <td>1</td>\n",
              "    </tr>\n",
              "    <tr>\n",
              "      <th>Vegalarga</th>\n",
              "      <td>5</td>\n",
              "    </tr>\n",
              "  </tbody>\n",
              "</table>\n",
              "</div>\n",
              "      <button class=\"colab-df-convert\" onclick=\"convertToInteractive('df-9ed2b8d4-1fd1-45a5-a8ed-c3824ce58e7d')\"\n",
              "              title=\"Convert this dataframe to an interactive table.\"\n",
              "              style=\"display:none;\">\n",
              "        \n",
              "  <svg xmlns=\"http://www.w3.org/2000/svg\" height=\"24px\"viewBox=\"0 0 24 24\"\n",
              "       width=\"24px\">\n",
              "    <path d=\"M0 0h24v24H0V0z\" fill=\"none\"/>\n",
              "    <path d=\"M18.56 5.44l.94 2.06.94-2.06 2.06-.94-2.06-.94-.94-2.06-.94 2.06-2.06.94zm-11 1L8.5 8.5l.94-2.06 2.06-.94-2.06-.94L8.5 2.5l-.94 2.06-2.06.94zm10 10l.94 2.06.94-2.06 2.06-.94-2.06-.94-.94-2.06-.94 2.06-2.06.94z\"/><path d=\"M17.41 7.96l-1.37-1.37c-.4-.4-.92-.59-1.43-.59-.52 0-1.04.2-1.43.59L10.3 9.45l-7.72 7.72c-.78.78-.78 2.05 0 2.83L4 21.41c.39.39.9.59 1.41.59.51 0 1.02-.2 1.41-.59l7.78-7.78 2.81-2.81c.8-.78.8-2.07 0-2.86zM5.41 20L4 18.59l7.72-7.72 1.47 1.35L5.41 20z\"/>\n",
              "  </svg>\n",
              "      </button>\n",
              "      \n",
              "  <style>\n",
              "    .colab-df-container {\n",
              "      display:flex;\n",
              "      flex-wrap:wrap;\n",
              "      gap: 12px;\n",
              "    }\n",
              "\n",
              "    .colab-df-convert {\n",
              "      background-color: #E8F0FE;\n",
              "      border: none;\n",
              "      border-radius: 50%;\n",
              "      cursor: pointer;\n",
              "      display: none;\n",
              "      fill: #1967D2;\n",
              "      height: 32px;\n",
              "      padding: 0 0 0 0;\n",
              "      width: 32px;\n",
              "    }\n",
              "\n",
              "    .colab-df-convert:hover {\n",
              "      background-color: #E2EBFA;\n",
              "      box-shadow: 0px 1px 2px rgba(60, 64, 67, 0.3), 0px 1px 3px 1px rgba(60, 64, 67, 0.15);\n",
              "      fill: #174EA6;\n",
              "    }\n",
              "\n",
              "    [theme=dark] .colab-df-convert {\n",
              "      background-color: #3B4455;\n",
              "      fill: #D2E3FC;\n",
              "    }\n",
              "\n",
              "    [theme=dark] .colab-df-convert:hover {\n",
              "      background-color: #434B5C;\n",
              "      box-shadow: 0px 1px 3px 1px rgba(0, 0, 0, 0.15);\n",
              "      filter: drop-shadow(0px 1px 2px rgba(0, 0, 0, 0.3));\n",
              "      fill: #FFFFFF;\n",
              "    }\n",
              "  </style>\n",
              "\n",
              "      <script>\n",
              "        const buttonEl =\n",
              "          document.querySelector('#df-9ed2b8d4-1fd1-45a5-a8ed-c3824ce58e7d button.colab-df-convert');\n",
              "        buttonEl.style.display =\n",
              "          google.colab.kernel.accessAllowed ? 'block' : 'none';\n",
              "\n",
              "        async function convertToInteractive(key) {\n",
              "          const element = document.querySelector('#df-9ed2b8d4-1fd1-45a5-a8ed-c3824ce58e7d');\n",
              "          const dataTable =\n",
              "            await google.colab.kernel.invokeFunction('convertToInteractive',\n",
              "                                                     [key], {});\n",
              "          if (!dataTable) return;\n",
              "\n",
              "          const docLinkHtml = 'Like what you see? Visit the ' +\n",
              "            '<a target=\"_blank\" href=https://colab.research.google.com/notebooks/data_table.ipynb>data table notebook</a>'\n",
              "            + ' to learn more about interactive tables.';\n",
              "          element.innerHTML = '';\n",
              "          dataTable['output_type'] = 'display_data';\n",
              "          await google.colab.output.renderOutput(dataTable, element);\n",
              "          const docLink = document.createElement('div');\n",
              "          docLink.innerHTML = docLinkHtml;\n",
              "          element.appendChild(docLink);\n",
              "        }\n",
              "      </script>\n",
              "    </div>\n",
              "  </div>\n",
              "  "
            ]
          },
          "metadata": {},
          "execution_count": 149
        }
      ]
    },
    {
      "cell_type": "markdown",
      "source": [
        "**ANALISIS**\n",
        "\n",
        "Se evidencia que el lugar donde más suicidios se presentaron fue en la COMUNA SUR (6) esta es la comuna mas extensa de neiva lo que podria ser una de las razones por las que tiene más registros (32) sin embargo tambien hay que tener en cuenta el estrato socio-economico del lugar y el contexto social en general, a esta le sigue la COMUNA LAS PALMAS que cuenta con 22 registos.\n",
        "\n",
        "Tambien podemos ver que FORTALECILLAS es el lugar con menos suicidios con tan solo 1 registo en 6 años."
      ],
      "metadata": {
        "id": "B_eZUDcakHtF"
      }
    },
    {
      "cell_type": "code",
      "source": [
        "# Antes vamos a remplazar unos valores que representan lo mismo pero están escritos de distinta manera entonces los toma como algo distinto\n",
        "sui_df.head()\n",
        "sui_df['evento_relacionado_con_el'] = sui_df['evento_relacionado_con_el'].replace('Conflicto con la pareja', 'Conflicto con la Pareja')\n",
        "sui_df['evento_relacionado_con_el'] = sui_df['evento_relacionado_con_el'].replace('Conflictos con la pareja', 'Conflicto con la Pareja')"
      ],
      "metadata": {
        "id": "HbwY8RqNsyCQ"
      },
      "execution_count": 203,
      "outputs": []
    },
    {
      "cell_type": "code",
      "source": [
        "# Y ahora si procedemos a hace la tabla pivote\n",
        "sui_df.pivot_table(values='edad', index= 'genero', columns=['evento_relacionado_con_el'], aggfunc= 'count')"
      ],
      "metadata": {
        "colab": {
          "base_uri": "https://localhost:8080/",
          "height": 205
        },
        "id": "9NYdWCz3tvsN",
        "outputId": "23d3fe4b-f993-47a1-c6ee-0929722637a9"
      },
      "execution_count": 205,
      "outputs": [
        {
          "output_type": "execute_result",
          "data": {
            "text/plain": [
              "evento_relacionado_con_el  Conflicto con la Familia  Conflicto con la Pareja  \\\n",
              "genero                                                                         \n",
              "Femenino                                        1.0                      6.0   \n",
              "Masculino                                       9.0                     32.0   \n",
              "\n",
              "evento_relacionado_con_el  Crisis Económica  Duelo Reciente  \\\n",
              "genero                                                        \n",
              "Femenino                                2.0             NaN   \n",
              "Masculino                              10.0             2.0   \n",
              "\n",
              "evento_relacionado_con_el  Otro Tipo de Eventos  Problemas Escolares  Sin Dato  \n",
              "genero                                                                          \n",
              "Femenino                                   11.0                  3.0       4.0  \n",
              "Masculino                                  60.0                  NaN      47.0  "
            ],
            "text/html": [
              "\n",
              "  <div id=\"df-45b4c704-c8f7-4574-8cc0-529aa036a05e\">\n",
              "    <div class=\"colab-df-container\">\n",
              "      <div>\n",
              "<style scoped>\n",
              "    .dataframe tbody tr th:only-of-type {\n",
              "        vertical-align: middle;\n",
              "    }\n",
              "\n",
              "    .dataframe tbody tr th {\n",
              "        vertical-align: top;\n",
              "    }\n",
              "\n",
              "    .dataframe thead th {\n",
              "        text-align: right;\n",
              "    }\n",
              "</style>\n",
              "<table border=\"1\" class=\"dataframe\">\n",
              "  <thead>\n",
              "    <tr style=\"text-align: right;\">\n",
              "      <th>evento_relacionado_con_el</th>\n",
              "      <th>Conflicto con la Familia</th>\n",
              "      <th>Conflicto con la Pareja</th>\n",
              "      <th>Crisis Económica</th>\n",
              "      <th>Duelo Reciente</th>\n",
              "      <th>Otro Tipo de Eventos</th>\n",
              "      <th>Problemas Escolares</th>\n",
              "      <th>Sin Dato</th>\n",
              "    </tr>\n",
              "    <tr>\n",
              "      <th>genero</th>\n",
              "      <th></th>\n",
              "      <th></th>\n",
              "      <th></th>\n",
              "      <th></th>\n",
              "      <th></th>\n",
              "      <th></th>\n",
              "      <th></th>\n",
              "    </tr>\n",
              "  </thead>\n",
              "  <tbody>\n",
              "    <tr>\n",
              "      <th>Femenino</th>\n",
              "      <td>1.0</td>\n",
              "      <td>6.0</td>\n",
              "      <td>2.0</td>\n",
              "      <td>NaN</td>\n",
              "      <td>11.0</td>\n",
              "      <td>3.0</td>\n",
              "      <td>4.0</td>\n",
              "    </tr>\n",
              "    <tr>\n",
              "      <th>Masculino</th>\n",
              "      <td>9.0</td>\n",
              "      <td>32.0</td>\n",
              "      <td>10.0</td>\n",
              "      <td>2.0</td>\n",
              "      <td>60.0</td>\n",
              "      <td>NaN</td>\n",
              "      <td>47.0</td>\n",
              "    </tr>\n",
              "  </tbody>\n",
              "</table>\n",
              "</div>\n",
              "      <button class=\"colab-df-convert\" onclick=\"convertToInteractive('df-45b4c704-c8f7-4574-8cc0-529aa036a05e')\"\n",
              "              title=\"Convert this dataframe to an interactive table.\"\n",
              "              style=\"display:none;\">\n",
              "        \n",
              "  <svg xmlns=\"http://www.w3.org/2000/svg\" height=\"24px\"viewBox=\"0 0 24 24\"\n",
              "       width=\"24px\">\n",
              "    <path d=\"M0 0h24v24H0V0z\" fill=\"none\"/>\n",
              "    <path d=\"M18.56 5.44l.94 2.06.94-2.06 2.06-.94-2.06-.94-.94-2.06-.94 2.06-2.06.94zm-11 1L8.5 8.5l.94-2.06 2.06-.94-2.06-.94L8.5 2.5l-.94 2.06-2.06.94zm10 10l.94 2.06.94-2.06 2.06-.94-2.06-.94-.94-2.06-.94 2.06-2.06.94z\"/><path d=\"M17.41 7.96l-1.37-1.37c-.4-.4-.92-.59-1.43-.59-.52 0-1.04.2-1.43.59L10.3 9.45l-7.72 7.72c-.78.78-.78 2.05 0 2.83L4 21.41c.39.39.9.59 1.41.59.51 0 1.02-.2 1.41-.59l7.78-7.78 2.81-2.81c.8-.78.8-2.07 0-2.86zM5.41 20L4 18.59l7.72-7.72 1.47 1.35L5.41 20z\"/>\n",
              "  </svg>\n",
              "      </button>\n",
              "      \n",
              "  <style>\n",
              "    .colab-df-container {\n",
              "      display:flex;\n",
              "      flex-wrap:wrap;\n",
              "      gap: 12px;\n",
              "    }\n",
              "\n",
              "    .colab-df-convert {\n",
              "      background-color: #E8F0FE;\n",
              "      border: none;\n",
              "      border-radius: 50%;\n",
              "      cursor: pointer;\n",
              "      display: none;\n",
              "      fill: #1967D2;\n",
              "      height: 32px;\n",
              "      padding: 0 0 0 0;\n",
              "      width: 32px;\n",
              "    }\n",
              "\n",
              "    .colab-df-convert:hover {\n",
              "      background-color: #E2EBFA;\n",
              "      box-shadow: 0px 1px 2px rgba(60, 64, 67, 0.3), 0px 1px 3px 1px rgba(60, 64, 67, 0.15);\n",
              "      fill: #174EA6;\n",
              "    }\n",
              "\n",
              "    [theme=dark] .colab-df-convert {\n",
              "      background-color: #3B4455;\n",
              "      fill: #D2E3FC;\n",
              "    }\n",
              "\n",
              "    [theme=dark] .colab-df-convert:hover {\n",
              "      background-color: #434B5C;\n",
              "      box-shadow: 0px 1px 3px 1px rgba(0, 0, 0, 0.15);\n",
              "      filter: drop-shadow(0px 1px 2px rgba(0, 0, 0, 0.3));\n",
              "      fill: #FFFFFF;\n",
              "    }\n",
              "  </style>\n",
              "\n",
              "      <script>\n",
              "        const buttonEl =\n",
              "          document.querySelector('#df-45b4c704-c8f7-4574-8cc0-529aa036a05e button.colab-df-convert');\n",
              "        buttonEl.style.display =\n",
              "          google.colab.kernel.accessAllowed ? 'block' : 'none';\n",
              "\n",
              "        async function convertToInteractive(key) {\n",
              "          const element = document.querySelector('#df-45b4c704-c8f7-4574-8cc0-529aa036a05e');\n",
              "          const dataTable =\n",
              "            await google.colab.kernel.invokeFunction('convertToInteractive',\n",
              "                                                     [key], {});\n",
              "          if (!dataTable) return;\n",
              "\n",
              "          const docLinkHtml = 'Like what you see? Visit the ' +\n",
              "            '<a target=\"_blank\" href=https://colab.research.google.com/notebooks/data_table.ipynb>data table notebook</a>'\n",
              "            + ' to learn more about interactive tables.';\n",
              "          element.innerHTML = '';\n",
              "          dataTable['output_type'] = 'display_data';\n",
              "          await google.colab.output.renderOutput(dataTable, element);\n",
              "          const docLink = document.createElement('div');\n",
              "          docLink.innerHTML = docLinkHtml;\n",
              "          element.appendChild(docLink);\n",
              "        }\n",
              "      </script>\n",
              "    </div>\n",
              "  </div>\n",
              "  "
            ]
          },
          "metadata": {},
          "execution_count": 205
        }
      ]
    },
    {
      "cell_type": "markdown",
      "source": [
        "**ANALISIS**\n",
        "\n",
        "Sin contar aquellos caso donde no tenemos conocimiento sobre la causa del suicidio podemos notar que en los hombres uno de los factores más detonantes a la hora del suicidio fue algún conflicto con la pareja mientras que pareja mientras que si bien si hay suicidios esta razón en las mujeres no se ve tan marcada como si pasa en los hombre.\n",
        "\n",
        "Tambien se debe tener en cuenta que hay muchos suicidios de los cuales desconocemos la causa.\n",
        "\n",
        "Se considera importante la información respeto al manejo de emociones para asi lograr que cada vez estos registros vayan bajando, quizas es utopico pensar en erradicar el suicidio en un 100% sin embargo nunca está de más brindar ayuda y atención a aquellos que están pasando por un momento de caos en sus mentes y que pueden estár a tiempo de ser salvados.\n",
        "\n",
        "\n",
        "***FIN***"
      ],
      "metadata": {
        "id": "8lxXbcNjvydN"
      }
    }
  ]
}